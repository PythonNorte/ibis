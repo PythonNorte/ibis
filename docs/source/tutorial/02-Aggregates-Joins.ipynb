{
 "cells": [
  {
   "cell_type": "markdown",
   "metadata": {},
   "source": [
    "# Aggregating and joining data\n",
    "\n",
    "This is the second introductory tutorial to Ibis. If you are new to Ibis, you may want to start\n",
    "by the [first tutorial](01-Introduction-to-Ibis.html).\n",
    "\n",
    "In the first tutorial, we saw how to operate on the data of a table. We will work again with\n",
    "the `countries` table as we did previously."
   ]
  },
  {
   "cell_type": "code",
   "execution_count": 1,
   "metadata": {},
   "outputs": [
    {
     "data": {
      "text/plain": [
       "                     name continent   area_km2  population\n",
       "0                 Andorra        EU      468.0       84000\n",
       "1    United Arab Emirates        AS    82880.0     4975593\n",
       "2             Afghanistan        AS   647500.0    29121286\n",
       "3     Antigua and Barbuda        NA      443.0       86754\n",
       "4                Anguilla        NA      102.0       13254\n",
       "..                    ...       ...        ...         ...\n",
       "247                 Yemen        AS   527970.0    23495361\n",
       "248               Mayotte        AF      374.0      159042\n",
       "249          South Africa        AF  1219912.0    49000000\n",
       "250                Zambia        AF   752614.0    13460305\n",
       "251              Zimbabwe        AF   390580.0    13061000\n",
       "\n",
       "[252 rows x 4 columns]"
      ]
     },
     "execution_count": 1,
     "metadata": {},
     "output_type": "execute_result"
    }
   ],
   "source": [
    "import os\n",
    "import ibis\n",
    "\n",
    "\n",
    "ibis.options.interactive = True\n",
    "\n",
    "connection = ibis.sqlite.connect(os.path.join('data', 'geography.db'))\n",
    "countries = connection.table('countries')\n",
    "\n",
    "countries['name', 'continent', 'area_km2', 'population']"
   ]
  },
  {
   "cell_type": "markdown",
   "metadata": {},
   "source": [
    "## Expressions\n",
    "\n",
    "We will continue by exploring the data by continent. We will start by creating an expression\n",
    "with the continent names, since our table only contains the codes.\n",
    "\n",
    "An expression is one or more operations performed over the data. They can be used to retrieve the\n",
    "data, or to build more complex operations.\n",
    "\n",
    "In this case we will use a `case` conditional statement, to replace values depending on a condition."
   ]
  },
  {
   "cell_type": "code",
   "execution_count": 2,
   "metadata": {},
   "outputs": [
    {
     "data": {
      "text/plain": [
       "0             Europe\n",
       "1               Asia\n",
       "2               Asia\n",
       "3      North America\n",
       "4      North America\n",
       "           ...      \n",
       "247             Asia\n",
       "248           Africa\n",
       "249           Africa\n",
       "250           Africa\n",
       "251           Africa\n",
       "Name: tmp, Length: 252, dtype: object"
      ]
     },
     "execution_count": 2,
     "metadata": {},
     "output_type": "execute_result"
    }
   ],
   "source": [
    "continent_name = (countries['continent'].case()\n",
    "                                        .when('NA', 'North America')\n",
    "                                        .when('SA', 'South America')\n",
    "                                        .when('EU', 'Europe')\n",
    "                                        .when('AF', 'Africa')\n",
    "                                        .when('AS', 'Asia')\n",
    "                                        .when('OC', 'Oceania')\n",
    "                                        .when('AN', 'Anctartica')\n",
    "                                        .end()\n",
    "                                        .name('continent_name'))\n",
    "continent_name"
   ]
  },
  {
   "cell_type": "markdown",
   "metadata": {},
   "source": [
    "What we did is to take the values of the column `countries['continent']`, and we created a calculated\n",
    "column with the names of the continents, as defined in the `when` methods.\n",
    "\n",
    "This calculated column is an expression, meaning that is not stored in the database. Now we can query\n",
    "again the table `countries`, but replacing the original `continent` column by our expression.\n",
    "\n",
    "Note that the name of the column is not obtained by the name of the variable, but it was defined in the\n",
    "expression with the `.name('continent_name')`."
   ]
  },
  {
   "cell_type": "code",
   "execution_count": 3,
   "metadata": {},
   "outputs": [
    {
     "data": {
      "text/plain": [
       "                     name continent_name   area_km2  population\n",
       "0                 Andorra         Europe      468.0       84000\n",
       "1    United Arab Emirates           Asia    82880.0     4975593\n",
       "2             Afghanistan           Asia   647500.0    29121286\n",
       "3     Antigua and Barbuda  North America      443.0       86754\n",
       "4                Anguilla  North America      102.0       13254\n",
       "..                    ...            ...        ...         ...\n",
       "247                 Yemen           Asia   527970.0    23495361\n",
       "248               Mayotte         Africa      374.0      159042\n",
       "249          South Africa         Africa  1219912.0    49000000\n",
       "250                Zambia         Africa   752614.0    13460305\n",
       "251              Zimbabwe         Africa   390580.0    13061000\n",
       "\n",
       "[252 rows x 4 columns]"
      ]
     },
     "execution_count": 3,
     "metadata": {},
     "output_type": "execute_result"
    }
   ],
   "source": [
    "countries['name', continent_name, 'area_km2', 'population']"
   ]
  },
  {
   "cell_type": "markdown",
   "metadata": {},
   "source": [
    "Just for illustration, let's repeat the same query, but renaming the expression to `continent`\n",
    "when using it in the list of columns to fetch."
   ]
  },
  {
   "cell_type": "code",
   "execution_count": 4,
   "metadata": {},
   "outputs": [
    {
     "data": {
      "text/plain": [
       "                     name      continent   area_km2  population\n",
       "0                 Andorra         Europe      468.0       84000\n",
       "1    United Arab Emirates           Asia    82880.0     4975593\n",
       "2             Afghanistan           Asia   647500.0    29121286\n",
       "3     Antigua and Barbuda  North America      443.0       86754\n",
       "4                Anguilla  North America      102.0       13254\n",
       "..                    ...            ...        ...         ...\n",
       "247                 Yemen           Asia   527970.0    23495361\n",
       "248               Mayotte         Africa      374.0      159042\n",
       "249          South Africa         Africa  1219912.0    49000000\n",
       "250                Zambia         Africa   752614.0    13460305\n",
       "251              Zimbabwe         Africa   390580.0    13061000\n",
       "\n",
       "[252 rows x 4 columns]"
      ]
     },
     "execution_count": 4,
     "metadata": {},
     "output_type": "execute_result"
    }
   ],
   "source": [
    "countries['name', continent_name.name('continent'), 'area_km2', 'population']"
   ]
  },
  {
   "cell_type": "markdown",
   "metadata": {},
   "source": [
    "## Aggregating data\n",
    "\n",
    "Now, let's group our data by continent, and let's find the total population of each."
   ]
  },
  {
   "cell_type": "code",
   "execution_count": 5,
   "metadata": {},
   "outputs": [
    {
     "data": {
      "text/plain": [
       "  continent_name  total_population\n",
       "0         Africa        1021238685\n",
       "1     Anctartica               170\n",
       "2           Asia        4130584841\n",
       "3         Europe         750724554\n",
       "4  North America         540204371\n",
       "5        Oceania          36067549\n",
       "6  South America         400143568"
      ]
     },
     "execution_count": 5,
     "metadata": {},
     "output_type": "execute_result"
    }
   ],
   "source": [
    "countries.group_by(continent_name).aggregate(countries['population'].sum().name('total_population'))"
   ]
  },
  {
   "cell_type": "markdown",
   "metadata": {},
   "source": [
    "We can see how Asia is the most populated country, followed by Africa. And the Anctartica is the less populated,\n",
    "as we could expect.\n",
    "\n",
    "The code to aggregate has two main parts:\n",
    "- The `group_by` method, that receive the column, expression or list of them to group by\n",
    "- The `aggregate` method, that receives an expression with the reduction we want to apply\n",
    "\n",
    "To make things a bit clearer, let's first save the reduction."
   ]
  },
  {
   "cell_type": "code",
   "execution_count": 6,
   "metadata": {},
   "outputs": [
    {
     "data": {
      "text/plain": [
       "6878963738"
      ]
     },
     "execution_count": 6,
     "metadata": {},
     "output_type": "execute_result"
    }
   ],
   "source": [
    "total_population = countries['population'].sum().name('total_population')\n",
    "total_population"
   ]
  },
  {
   "cell_type": "markdown",
   "metadata": {},
   "source": [
    "As we can see, if we perform the operation directly, we will get the sum of the total in the column.\n",
    "\n",
    "But if we take the expression as the parameter of the `aggregate` method, then, the total is computed\n",
    "over every group defined by the `group_by` method."
   ]
  },
  {
   "cell_type": "code",
   "execution_count": 7,
   "metadata": {},
   "outputs": [
    {
     "data": {
      "text/plain": [
       "  continent_name  total_population\n",
       "0         Africa        1021238685\n",
       "1     Anctartica               170\n",
       "2           Asia        4130584841\n",
       "3         Europe         750724554\n",
       "4  North America         540204371\n",
       "5        Oceania          36067549\n",
       "6  South America         400143568"
      ]
     },
     "execution_count": 7,
     "metadata": {},
     "output_type": "execute_result"
    }
   ],
   "source": [
    "countries.group_by(continent_name).aggregate(total_population)"
   ]
  },
  {
   "cell_type": "markdown",
   "metadata": {},
   "source": [
    "If we want to compute two aggregates at the same time, we can pass a list to the `aggregate` method.\n",
    "\n",
    "For illustration, we use the `continent` column, instead of the `continent_names` expression. We can\n",
    "use both column names and expressions, and also a list with any of them (e.g. `[continent_names, 'name']`."
   ]
  },
  {
   "cell_type": "code",
   "execution_count": 8,
   "metadata": {},
   "outputs": [
    {
     "data": {
      "text/plain": [
       "  continent  total_population  average_area\n",
       "0        AF        1021238685  5.234534e+05\n",
       "1        AN               170  2.802439e+06\n",
       "2        AS        4130584841  6.196685e+05\n",
       "3        EU         750724554  4.293017e+05\n",
       "4        NA         540204371  5.836313e+05\n",
       "5        OC          36067549  3.044157e+05\n",
       "6        SA         400143568  1.272751e+06"
      ]
     },
     "execution_count": 8,
     "metadata": {},
     "output_type": "execute_result"
    }
   ],
   "source": [
    "countries.group_by('continent').aggregate([total_population,\n",
    "                                           countries['area_km2'].mean().name('average_area')])"
   ]
  },
  {
   "cell_type": "markdown",
   "metadata": {},
   "source": [
    "## Joining data\n",
    "\n",
    "Now we are going to get the total gross domestic product (GDP) for each continent. In this case, the GDP data\n",
    "is not in the same table `countries`, but in a table `gdp`."
   ]
  },
  {
   "cell_type": "code",
   "execution_count": 9,
   "metadata": {},
   "outputs": [
    {
     "data": {
      "text/plain": [
       "     country_code  year         value\n",
       "0             ABW  1986  4.054634e+08\n",
       "1             ABW  1987  4.876025e+08\n",
       "2             ABW  1988  5.964236e+08\n",
       "3             ABW  1989  6.953044e+08\n",
       "4             ABW  1990  7.648871e+08\n",
       "...           ...   ...           ...\n",
       "9995          SVK  2002  3.513034e+10\n",
       "9996          SVK  2003  4.681659e+10\n",
       "9997          SVK  2004  5.733202e+10\n",
       "9998          SVK  2005  6.278531e+10\n",
       "9999          SVK  2006  7.070810e+10\n",
       "\n",
       "[10000 rows x 3 columns]"
      ]
     },
     "execution_count": 9,
     "metadata": {},
     "output_type": "execute_result"
    }
   ],
   "source": [
    "gdp = connection.table('gdp')\n",
    "gdp"
   ]
  },
  {
   "cell_type": "markdown",
   "metadata": {},
   "source": [
    "Now, we are going to join this data, with the `countries` table, so we can obtain the continent\n",
    "of each country. The `countries` table have different codes for the countries, let's find out which\n",
    "is the one matching the three letter code in the `gdp` table."
   ]
  },
  {
   "cell_type": "code",
   "execution_count": 10,
   "metadata": {},
   "outputs": [
    {
     "data": {
      "text/plain": [
       "    iso_alpha2 iso_alpha3  iso_numeric fips                  name  \\\n",
       "0           AD        AND           20   AN               Andorra   \n",
       "1           AE        ARE          784   AE  United Arab Emirates   \n",
       "2           AF        AFG            4   AF           Afghanistan   \n",
       "3           AG        ATG           28   AC   Antigua and Barbuda   \n",
       "4           AI        AIA          660   AV              Anguilla   \n",
       "..         ...        ...          ...  ...                   ...   \n",
       "247         YE        YEM          887   YM                 Yemen   \n",
       "248         YT        MYT          175   MF               Mayotte   \n",
       "249         ZA        ZAF          710   SF          South Africa   \n",
       "250         ZM        ZMB          894   ZA                Zambia   \n",
       "251         ZW        ZWE          716   ZI              Zimbabwe   \n",
       "\n",
       "              capital   area_km2  population continent  \n",
       "0    Andorra la Vella      468.0       84000        EU  \n",
       "1           Abu Dhabi    82880.0     4975593        AS  \n",
       "2               Kabul   647500.0    29121286        AS  \n",
       "3           St. Johns      443.0       86754        NA  \n",
       "4          The Valley      102.0       13254        NA  \n",
       "..                ...        ...         ...       ...  \n",
       "247             Sanaa   527970.0    23495361        AS  \n",
       "248         Mamoudzou      374.0      159042        AF  \n",
       "249          Pretoria  1219912.0    49000000        AF  \n",
       "250            Lusaka   752614.0    13460305        AF  \n",
       "251            Harare   390580.0    13061000        AF  \n",
       "\n",
       "[252 rows x 9 columns]"
      ]
     },
     "execution_count": 10,
     "metadata": {},
     "output_type": "execute_result"
    }
   ],
   "source": [
    "countries"
   ]
  },
  {
   "cell_type": "markdown",
   "metadata": {},
   "source": [
    "The code in `gdp` corresponds to `iso_alpha2` in the `countries` table. We can also see,\n",
    "how the `gdp` table has `247` rows, while `countries` has `252`. We will start joining the\n",
    "two tables by the codes that match, discarding the codes that do not exist in both tables.\n",
    "This is called an inner join."
   ]
  },
  {
   "cell_type": "code",
   "execution_count": 11,
   "metadata": {},
   "outputs": [
    {
     "data": {
      "text/plain": [
       "     iso_alpha2 iso_alpha3  iso_numeric fips      name           capital  \\\n",
       "0            AD        AND           20   AN   Andorra  Andorra la Vella   \n",
       "1            AD        AND           20   AN   Andorra  Andorra la Vella   \n",
       "2            AD        AND           20   AN   Andorra  Andorra la Vella   \n",
       "3            AD        AND           20   AN   Andorra  Andorra la Vella   \n",
       "4            AD        AND           20   AN   Andorra  Andorra la Vella   \n",
       "...         ...        ...          ...  ...       ...               ...   \n",
       "9482         ZW        ZWE          716   ZI  Zimbabwe            Harare   \n",
       "9483         ZW        ZWE          716   ZI  Zimbabwe            Harare   \n",
       "9484         ZW        ZWE          716   ZI  Zimbabwe            Harare   \n",
       "9485         ZW        ZWE          716   ZI  Zimbabwe            Harare   \n",
       "9486         ZW        ZWE          716   ZI  Zimbabwe            Harare   \n",
       "\n",
       "      area_km2  population continent country_code  year         value  \n",
       "0        468.0       84000        EU          AND  1970  7.861921e+07  \n",
       "1        468.0       84000        EU          AND  1971  8.940982e+07  \n",
       "2        468.0       84000        EU          AND  1972  1.134082e+08  \n",
       "3        468.0       84000        EU          AND  1973  1.508201e+08  \n",
       "4        468.0       84000        EU          AND  1974  1.865587e+08  \n",
       "...        ...         ...       ...          ...   ...           ...  \n",
       "9482  390580.0    13061000        AF          ZWE  2013  1.909102e+10  \n",
       "9483  390580.0    13061000        AF          ZWE  2014  1.949552e+10  \n",
       "9484  390580.0    13061000        AF          ZWE  2015  1.996312e+10  \n",
       "9485  390580.0    13061000        AF          ZWE  2016  2.054868e+10  \n",
       "9486  390580.0    13061000        AF          ZWE  2017  2.281301e+10  \n",
       "\n",
       "[9487 rows x 12 columns]"
      ]
     },
     "execution_count": 11,
     "metadata": {},
     "output_type": "execute_result"
    }
   ],
   "source": [
    "countries_and_gdp = countries.inner_join(gdp,\n",
    "                                         predicates=countries['iso_alpha3'] == gdp['country_code'])\n",
    "countries_and_gdp.materialize()"
   ]
  },
  {
   "cell_type": "markdown",
   "metadata": {},
   "source": [
    "What we did, is to call the `inner_join` method of the `countries` table, and passed as a parameter\n",
    "the `gdp` table. The method receives a second parameter `predicates`, that is used to specify\n",
    "how the join will be perform. In this case we want the `iso_alpha3` column in `countries`, to\n",
    "match the `country_code` column in `gdp`. This is specified with the expression\n",
    "`countries['iso_alpha3'] == gdp['country_code']`.\n",
    "\n",
    "Finally, before we can use the values of the joined query, we need to materialize the result calling\n",
    "its `materialize` method. Let's look with another example why joins need to be materialized.\n",
    "\n",
    "We will now \"clean up\" the `countries` table before performing the join, by removing the columns we\n",
    "don't want, and renaming the code column we are going to use."
   ]
  },
  {
   "cell_type": "code",
   "execution_count": 12,
   "metadata": {},
   "outputs": [
    {
     "data": {
      "text/plain": [
       "    country_code continent\n",
       "0            AND        EU\n",
       "1            ARE        AS\n",
       "2            AFG        AS\n",
       "3            ATG        NA\n",
       "4            AIA        NA\n",
       "..           ...       ...\n",
       "247          YEM        AS\n",
       "248          MYT        AF\n",
       "249          ZAF        AF\n",
       "250          ZMB        AF\n",
       "251          ZWE        AF\n",
       "\n",
       "[252 rows x 2 columns]"
      ]
     },
     "execution_count": 12,
     "metadata": {},
     "output_type": "execute_result"
    }
   ],
   "source": [
    "countries_simplified = countries[countries['iso_alpha3'].name('country_code'), 'continent']\n",
    "countries_simplified"
   ]
  },
  {
   "cell_type": "markdown",
   "metadata": {},
   "source": [
    "Now, we can join again as we did before, but withe the expression `countries_simplified`, instead of with\n",
    "the table `countries` directly."
   ]
  },
  {
   "cell_type": "code",
   "execution_count": 13,
   "metadata": {},
   "outputs": [
    {
     "ename": "RelationError",
     "evalue": "Joined tables have overlapping names: ['country_code']",
     "output_type": "error",
     "traceback": [
      "\u001b[0;31m---------------------------------------------------------------------------\u001b[0m",
      "\u001b[0;31mRelationError\u001b[0m                             Traceback (most recent call last)",
      "\u001b[0;32m<ipython-input-13-9228f530206a>\u001b[0m in \u001b[0;36m<module>\u001b[0;34m\u001b[0m\n\u001b[1;32m      1\u001b[0m countries_and_gdp = countries_simplified.inner_join(gdp,\n\u001b[1;32m      2\u001b[0m                                                     predicates=countries_simplified['country_code'] == gdp['country_code'])\n\u001b[0;32m----> 3\u001b[0;31m \u001b[0mcountries_and_gdp\u001b[0m\u001b[0;34m.\u001b[0m\u001b[0mmaterialize\u001b[0m\u001b[0;34m(\u001b[0m\u001b[0;34m)\u001b[0m\u001b[0;34m\u001b[0m\u001b[0;34m\u001b[0m\u001b[0m\n\u001b[0m",
      "\u001b[0;32m~/src/ibis/ibis/expr/api.py\u001b[0m in \u001b[0;36m_table_materialize\u001b[0;34m(table)\u001b[0m\n\u001b[1;32m   4005\u001b[0m         \u001b[0;32mreturn\u001b[0m \u001b[0mtable\u001b[0m\u001b[0;34m\u001b[0m\u001b[0;34m\u001b[0m\u001b[0m\n\u001b[1;32m   4006\u001b[0m \u001b[0;34m\u001b[0m\u001b[0m\n\u001b[0;32m-> 4007\u001b[0;31m     \u001b[0mop\u001b[0m \u001b[0;34m=\u001b[0m \u001b[0mops\u001b[0m\u001b[0;34m.\u001b[0m\u001b[0mMaterializedJoin\u001b[0m\u001b[0;34m(\u001b[0m\u001b[0mtable\u001b[0m\u001b[0;34m)\u001b[0m\u001b[0;34m\u001b[0m\u001b[0;34m\u001b[0m\u001b[0m\n\u001b[0m\u001b[1;32m   4008\u001b[0m     \u001b[0;32mreturn\u001b[0m \u001b[0mop\u001b[0m\u001b[0;34m.\u001b[0m\u001b[0mto_expr\u001b[0m\u001b[0;34m(\u001b[0m\u001b[0;34m)\u001b[0m\u001b[0;34m\u001b[0m\u001b[0;34m\u001b[0m\u001b[0m\n\u001b[1;32m   4009\u001b[0m \u001b[0;34m\u001b[0m\u001b[0m\n",
      "\u001b[0;32m~/src/ibis/ibis/expr/signature.py\u001b[0m in \u001b[0;36m__init__\u001b[0;34m(self, *args, **kwargs)\u001b[0m\n\u001b[1;32m    181\u001b[0m         \u001b[0;32mfor\u001b[0m \u001b[0mname\u001b[0m\u001b[0;34m,\u001b[0m \u001b[0mvalue\u001b[0m \u001b[0;32min\u001b[0m \u001b[0mself\u001b[0m\u001b[0;34m.\u001b[0m\u001b[0msignature\u001b[0m\u001b[0;34m.\u001b[0m\u001b[0mvalidate\u001b[0m\u001b[0;34m(\u001b[0m\u001b[0;34m*\u001b[0m\u001b[0margs\u001b[0m\u001b[0;34m,\u001b[0m \u001b[0;34m**\u001b[0m\u001b[0mkwargs\u001b[0m\u001b[0;34m)\u001b[0m\u001b[0;34m:\u001b[0m\u001b[0;34m\u001b[0m\u001b[0;34m\u001b[0m\u001b[0m\n\u001b[1;32m    182\u001b[0m             \u001b[0msetattr\u001b[0m\u001b[0;34m(\u001b[0m\u001b[0mself\u001b[0m\u001b[0;34m,\u001b[0m \u001b[0mname\u001b[0m\u001b[0;34m,\u001b[0m \u001b[0mvalue\u001b[0m\u001b[0;34m)\u001b[0m\u001b[0;34m\u001b[0m\u001b[0;34m\u001b[0m\u001b[0m\n\u001b[0;32m--> 183\u001b[0;31m         \u001b[0mself\u001b[0m\u001b[0;34m.\u001b[0m\u001b[0m_validate\u001b[0m\u001b[0;34m(\u001b[0m\u001b[0;34m)\u001b[0m\u001b[0;34m\u001b[0m\u001b[0;34m\u001b[0m\u001b[0m\n\u001b[0m\u001b[1;32m    184\u001b[0m \u001b[0;34m\u001b[0m\u001b[0m\n\u001b[1;32m    185\u001b[0m     \u001b[0;32mdef\u001b[0m \u001b[0m_validate\u001b[0m\u001b[0;34m(\u001b[0m\u001b[0mself\u001b[0m\u001b[0;34m)\u001b[0m\u001b[0;34m:\u001b[0m\u001b[0;34m\u001b[0m\u001b[0;34m\u001b[0m\u001b[0m\n",
      "\u001b[0;32m~/src/ibis/ibis/expr/operations.py\u001b[0m in \u001b[0;36m_validate\u001b[0;34m(self)\u001b[0m\n\u001b[1;32m   1689\u001b[0m         \u001b[0;32massert\u001b[0m \u001b[0misinstance\u001b[0m\u001b[0;34m(\u001b[0m\u001b[0mself\u001b[0m\u001b[0;34m.\u001b[0m\u001b[0mjoin\u001b[0m\u001b[0;34m.\u001b[0m\u001b[0mop\u001b[0m\u001b[0;34m(\u001b[0m\u001b[0;34m)\u001b[0m\u001b[0;34m,\u001b[0m \u001b[0mJoin\u001b[0m\u001b[0;34m)\u001b[0m\u001b[0;34m\u001b[0m\u001b[0;34m\u001b[0m\u001b[0m\n\u001b[1;32m   1690\u001b[0m         \u001b[0;31m# check whether the underlying schema has overlapping columns or not\u001b[0m\u001b[0;34m\u001b[0m\u001b[0;34m\u001b[0m\u001b[0;34m\u001b[0m\u001b[0m\n\u001b[0;32m-> 1691\u001b[0;31m         \u001b[0;32massert\u001b[0m \u001b[0mself\u001b[0m\u001b[0;34m.\u001b[0m\u001b[0mschema\u001b[0m\u001b[0;34m\u001b[0m\u001b[0;34m\u001b[0m\u001b[0m\n\u001b[0m\u001b[1;32m   1692\u001b[0m \u001b[0;34m\u001b[0m\u001b[0m\n\u001b[1;32m   1693\u001b[0m     \u001b[0;34m@\u001b[0m\u001b[0mproperty\u001b[0m\u001b[0;34m\u001b[0m\u001b[0;34m\u001b[0m\u001b[0m\n",
      "\u001b[0;32m~/src/ibis/ibis/expr/operations.py\u001b[0m in \u001b[0;36mschema\u001b[0;34m(self)\u001b[0m\n\u001b[1;32m   1693\u001b[0m     \u001b[0;34m@\u001b[0m\u001b[0mproperty\u001b[0m\u001b[0;34m\u001b[0m\u001b[0;34m\u001b[0m\u001b[0m\n\u001b[1;32m   1694\u001b[0m     \u001b[0;32mdef\u001b[0m \u001b[0mschema\u001b[0m\u001b[0;34m(\u001b[0m\u001b[0mself\u001b[0m\u001b[0;34m)\u001b[0m\u001b[0;34m:\u001b[0m\u001b[0;34m\u001b[0m\u001b[0;34m\u001b[0m\u001b[0m\n\u001b[0;32m-> 1695\u001b[0;31m         \u001b[0;32mreturn\u001b[0m \u001b[0mself\u001b[0m\u001b[0;34m.\u001b[0m\u001b[0mjoin\u001b[0m\u001b[0;34m.\u001b[0m\u001b[0mop\u001b[0m\u001b[0;34m(\u001b[0m\u001b[0;34m)\u001b[0m\u001b[0;34m.\u001b[0m\u001b[0m_get_schema\u001b[0m\u001b[0;34m(\u001b[0m\u001b[0;34m)\u001b[0m\u001b[0;34m\u001b[0m\u001b[0;34m\u001b[0m\u001b[0m\n\u001b[0m\u001b[1;32m   1696\u001b[0m \u001b[0;34m\u001b[0m\u001b[0m\n\u001b[1;32m   1697\u001b[0m     \u001b[0;32mdef\u001b[0m \u001b[0mroot_tables\u001b[0m\u001b[0;34m(\u001b[0m\u001b[0mself\u001b[0m\u001b[0;34m)\u001b[0m\u001b[0;34m:\u001b[0m\u001b[0;34m\u001b[0m\u001b[0;34m\u001b[0m\u001b[0m\n",
      "\u001b[0;32m~/src/ibis/ibis/expr/operations.py\u001b[0m in \u001b[0;36m_get_schema\u001b[0;34m(self)\u001b[0m\n\u001b[1;32m   1633\u001b[0m         \u001b[0;32mif\u001b[0m \u001b[0moverlap\u001b[0m\u001b[0;34m:\u001b[0m\u001b[0;34m\u001b[0m\u001b[0;34m\u001b[0m\u001b[0m\n\u001b[1;32m   1634\u001b[0m             raise com.RelationError(\n\u001b[0;32m-> 1635\u001b[0;31m                 \u001b[0;34m'Joined tables have overlapping names: %s'\u001b[0m \u001b[0;34m%\u001b[0m \u001b[0mstr\u001b[0m\u001b[0;34m(\u001b[0m\u001b[0mlist\u001b[0m\u001b[0;34m(\u001b[0m\u001b[0moverlap\u001b[0m\u001b[0;34m)\u001b[0m\u001b[0;34m)\u001b[0m\u001b[0;34m\u001b[0m\u001b[0;34m\u001b[0m\u001b[0m\n\u001b[0m\u001b[1;32m   1636\u001b[0m             )\n\u001b[1;32m   1637\u001b[0m \u001b[0;34m\u001b[0m\u001b[0m\n",
      "\u001b[0;31mRelationError\u001b[0m: Joined tables have overlapping names: ['country_code']"
     ]
    }
   ],
   "source": [
    "countries_and_gdp = countries_simplified.inner_join(gdp,\n",
    "                                                    predicates=countries_simplified['country_code'] == gdp['country_code'])\n",
    "countries_and_gdp.materialize()"
   ]
  },
  {
   "cell_type": "markdown",
   "metadata": {},
   "source": [
    "We are obtaining an exception, because the result would include the column `country_code` of\n",
    "both tables. And duplicated column names are not allowed.\n",
    "\n",
    "What we will do is to perform the join, but we won't yet materialize it."
   ]
  },
  {
   "cell_type": "code",
   "execution_count": 14,
   "metadata": {},
   "outputs": [],
   "source": [
    "countries_and_gdp = countries_simplified.inner_join(gdp,\n",
    "                                                    predicates=countries_simplified['country_code'] == gdp['country_code'])"
   ]
  },
  {
   "cell_type": "markdown",
   "metadata": {},
   "source": [
    "Now, we will select from the result, the columns that we are interested on, the continent, the value\n",
    "of the GDP, and the country code just once. We can also rename columns before materializing. That would\n",
    "be useful for example if `countries` also had a `value` column, and we wanted to get both, the one in\n",
    "`gdp` and the one in `countries`."
   ]
  },
  {
   "cell_type": "code",
   "execution_count": 15,
   "metadata": {},
   "outputs": [
    {
     "data": {
      "text/plain": [
       "     country_code continent  year           gdp\n",
       "0             AND        EU  1970  7.861921e+07\n",
       "1             AND        EU  1971  8.940982e+07\n",
       "2             AND        EU  1972  1.134082e+08\n",
       "3             AND        EU  1973  1.508201e+08\n",
       "4             AND        EU  1974  1.865587e+08\n",
       "...           ...       ...   ...           ...\n",
       "9482          ZWE        AF  2013  1.909102e+10\n",
       "9483          ZWE        AF  2014  1.949552e+10\n",
       "9484          ZWE        AF  2015  1.996312e+10\n",
       "9485          ZWE        AF  2016  2.054868e+10\n",
       "9486          ZWE        AF  2017  2.281301e+10\n",
       "\n",
       "[9487 rows x 4 columns]"
      ]
     },
     "execution_count": 15,
     "metadata": {},
     "output_type": "execute_result"
    }
   ],
   "source": [
    "gdp_with_continent = countries_and_gdp[countries_simplified['country_code'],\n",
    "                                       countries_simplified['continent'],\n",
    "                                       gdp['year'],\n",
    "                                       gdp['value'].name('gdp')].materialize()\n",
    "gdp_with_continent"
   ]
  },
  {
   "cell_type": "code",
   "execution_count": 16,
   "metadata": {},
   "outputs": [
    {
     "data": {
      "text/plain": [
       "    country_code continent\n",
       "0            AND        EU\n",
       "1            ARE        AS\n",
       "2            AFG        AS\n",
       "3            ATG        NA\n",
       "4            AIA        NA\n",
       "..           ...       ...\n",
       "247          YEM        AS\n",
       "248          MYT        AF\n",
       "249          ZAF        AF\n",
       "250          ZMB        AF\n",
       "251          ZWE        AF\n",
       "\n",
       "[252 rows x 2 columns]"
      ]
     },
     "execution_count": 16,
     "metadata": {},
     "output_type": "execute_result"
    }
   ],
   "source": [
    "countries_simplified"
   ]
  },
  {
   "cell_type": "code",
   "execution_count": 17,
   "metadata": {},
   "outputs": [
    {
     "data": {
      "text/plain": [
       "     country_code  year         value\n",
       "0             ABW  1986  4.054634e+08\n",
       "1             ABW  1987  4.876025e+08\n",
       "2             ABW  1988  5.964236e+08\n",
       "3             ABW  1989  6.953044e+08\n",
       "4             ABW  1990  7.648871e+08\n",
       "...           ...   ...           ...\n",
       "9995          SVK  2002  3.513034e+10\n",
       "9996          SVK  2003  4.681659e+10\n",
       "9997          SVK  2004  5.733202e+10\n",
       "9998          SVK  2005  6.278531e+10\n",
       "9999          SVK  2006  7.070810e+10\n",
       "\n",
       "[10000 rows x 3 columns]"
      ]
     },
     "execution_count": 17,
     "metadata": {},
     "output_type": "execute_result"
    }
   ],
   "source": [
    "gdp"
   ]
  },
  {
   "cell_type": "code",
   "execution_count": 18,
   "metadata": {},
   "outputs": [
    {
     "ename": "IntegrityError",
     "evalue": "Duplicate column name(s): ['country_code']",
     "output_type": "error",
     "traceback": [
      "\u001b[0;31m---------------------------------------------------------------------------\u001b[0m",
      "\u001b[0;31mIntegrityError\u001b[0m                            Traceback (most recent call last)",
      "\u001b[0;32m<ipython-input-18-9a26954378a1>\u001b[0m in \u001b[0;36m<module>\u001b[0;34m\u001b[0m\n\u001b[0;32m----> 1\u001b[0;31m \u001b[0mcountries_and_gdp\u001b[0m \u001b[0;34m=\u001b[0m \u001b[0mcountries_and_gdp\u001b[0m\u001b[0;34m[\u001b[0m\u001b[0mcountries_simplified\u001b[0m\u001b[0;34m,\u001b[0m \u001b[0mgdp\u001b[0m\u001b[0;34m]\u001b[0m  \u001b[0;31m# ['continent', gdp['country_code'].name('country_code'), 'value']\u001b[0m\u001b[0;34m\u001b[0m\u001b[0;34m\u001b[0m\u001b[0m\n\u001b[0m",
      "\u001b[0;32m~/src/ibis/ibis/expr/types.py\u001b[0m in \u001b[0;36m__getitem__\u001b[0;34m(self, what)\u001b[0m\n\u001b[1;32m    431\u001b[0m         \u001b[0;32mif\u001b[0m \u001b[0misinstance\u001b[0m\u001b[0;34m(\u001b[0m\u001b[0mwhat\u001b[0m\u001b[0;34m,\u001b[0m \u001b[0;34m(\u001b[0m\u001b[0mlist\u001b[0m\u001b[0;34m,\u001b[0m \u001b[0mtuple\u001b[0m\u001b[0;34m,\u001b[0m \u001b[0mTableExpr\u001b[0m\u001b[0;34m)\u001b[0m\u001b[0;34m)\u001b[0m\u001b[0;34m:\u001b[0m\u001b[0;34m\u001b[0m\u001b[0;34m\u001b[0m\u001b[0m\n\u001b[1;32m    432\u001b[0m             \u001b[0;31m# Projection case\u001b[0m\u001b[0;34m\u001b[0m\u001b[0;34m\u001b[0m\u001b[0;34m\u001b[0m\u001b[0m\n\u001b[0;32m--> 433\u001b[0;31m             \u001b[0;32mreturn\u001b[0m \u001b[0mself\u001b[0m\u001b[0;34m.\u001b[0m\u001b[0mprojection\u001b[0m\u001b[0;34m(\u001b[0m\u001b[0mwhat\u001b[0m\u001b[0;34m)\u001b[0m\u001b[0;34m\u001b[0m\u001b[0;34m\u001b[0m\u001b[0m\n\u001b[0m\u001b[1;32m    434\u001b[0m         \u001b[0;32melif\u001b[0m \u001b[0misinstance\u001b[0m\u001b[0;34m(\u001b[0m\u001b[0mwhat\u001b[0m\u001b[0;34m,\u001b[0m \u001b[0mBooleanColumn\u001b[0m\u001b[0;34m)\u001b[0m\u001b[0;34m:\u001b[0m\u001b[0;34m\u001b[0m\u001b[0;34m\u001b[0m\u001b[0m\n\u001b[1;32m    435\u001b[0m             \u001b[0;31m# Boolean predicate\u001b[0m\u001b[0;34m\u001b[0m\u001b[0;34m\u001b[0m\u001b[0;34m\u001b[0m\u001b[0m\n",
      "\u001b[0;32m~/src/ibis/ibis/expr/api.py\u001b[0m in \u001b[0;36mprojection\u001b[0;34m(table, exprs)\u001b[0m\n\u001b[1;32m   4190\u001b[0m \u001b[0;34m\u001b[0m\u001b[0m\n\u001b[1;32m   4191\u001b[0m     \u001b[0mprojector\u001b[0m \u001b[0;34m=\u001b[0m \u001b[0mL\u001b[0m\u001b[0;34m.\u001b[0m\u001b[0mProjector\u001b[0m\u001b[0;34m(\u001b[0m\u001b[0mtable\u001b[0m\u001b[0;34m,\u001b[0m \u001b[0mexprs\u001b[0m\u001b[0;34m)\u001b[0m\u001b[0;34m\u001b[0m\u001b[0;34m\u001b[0m\u001b[0m\n\u001b[0;32m-> 4192\u001b[0;31m     \u001b[0mop\u001b[0m \u001b[0;34m=\u001b[0m \u001b[0mprojector\u001b[0m\u001b[0;34m.\u001b[0m\u001b[0mget_result\u001b[0m\u001b[0;34m(\u001b[0m\u001b[0;34m)\u001b[0m\u001b[0;34m\u001b[0m\u001b[0;34m\u001b[0m\u001b[0m\n\u001b[0m\u001b[1;32m   4193\u001b[0m     \u001b[0;32mreturn\u001b[0m \u001b[0mop\u001b[0m\u001b[0;34m.\u001b[0m\u001b[0mto_expr\u001b[0m\u001b[0;34m(\u001b[0m\u001b[0;34m)\u001b[0m\u001b[0;34m\u001b[0m\u001b[0;34m\u001b[0m\u001b[0m\n\u001b[1;32m   4194\u001b[0m \u001b[0;34m\u001b[0m\u001b[0m\n",
      "\u001b[0;32m~/src/ibis/ibis/expr/analysis.py\u001b[0m in \u001b[0;36mget_result\u001b[0;34m(self)\u001b[0m\n\u001b[1;32m    775\u001b[0m                 \u001b[0;32mreturn\u001b[0m \u001b[0mfused_op\u001b[0m\u001b[0;34m\u001b[0m\u001b[0;34m\u001b[0m\u001b[0m\n\u001b[1;32m    776\u001b[0m \u001b[0;34m\u001b[0m\u001b[0m\n\u001b[0;32m--> 777\u001b[0;31m         \u001b[0;32mreturn\u001b[0m \u001b[0mops\u001b[0m\u001b[0;34m.\u001b[0m\u001b[0mSelection\u001b[0m\u001b[0;34m(\u001b[0m\u001b[0mself\u001b[0m\u001b[0;34m.\u001b[0m\u001b[0mparent\u001b[0m\u001b[0;34m,\u001b[0m \u001b[0mself\u001b[0m\u001b[0;34m.\u001b[0m\u001b[0mclean_exprs\u001b[0m\u001b[0;34m)\u001b[0m\u001b[0;34m\u001b[0m\u001b[0;34m\u001b[0m\u001b[0m\n\u001b[0m\u001b[1;32m    778\u001b[0m \u001b[0;34m\u001b[0m\u001b[0m\n\u001b[1;32m    779\u001b[0m     \u001b[0;32mdef\u001b[0m \u001b[0mtry_fusion\u001b[0m\u001b[0;34m(\u001b[0m\u001b[0mself\u001b[0m\u001b[0;34m,\u001b[0m \u001b[0mroot\u001b[0m\u001b[0;34m)\u001b[0m\u001b[0;34m:\u001b[0m\u001b[0;34m\u001b[0m\u001b[0;34m\u001b[0m\u001b[0m\n",
      "\u001b[0;32m~/src/ibis/ibis/expr/operations.py\u001b[0m in \u001b[0;36m__init__\u001b[0;34m(self, table, selections, predicates, sort_keys)\u001b[0m\n\u001b[1;32m   1914\u001b[0m             \u001b[0mselections\u001b[0m\u001b[0;34m=\u001b[0m\u001b[0mprojections\u001b[0m\u001b[0;34m,\u001b[0m\u001b[0;34m\u001b[0m\u001b[0;34m\u001b[0m\u001b[0m\n\u001b[1;32m   1915\u001b[0m             \u001b[0mpredicates\u001b[0m\u001b[0;34m=\u001b[0m\u001b[0mpredicates\u001b[0m\u001b[0;34m,\u001b[0m\u001b[0;34m\u001b[0m\u001b[0;34m\u001b[0m\u001b[0m\n\u001b[0;32m-> 1916\u001b[0;31m             \u001b[0msort_keys\u001b[0m\u001b[0;34m=\u001b[0m\u001b[0msort_keys\u001b[0m\u001b[0;34m,\u001b[0m\u001b[0;34m\u001b[0m\u001b[0;34m\u001b[0m\u001b[0m\n\u001b[0m\u001b[1;32m   1917\u001b[0m         )\n\u001b[1;32m   1918\u001b[0m \u001b[0;34m\u001b[0m\u001b[0m\n",
      "\u001b[0;32m~/src/ibis/ibis/expr/signature.py\u001b[0m in \u001b[0;36m__init__\u001b[0;34m(self, *args, **kwargs)\u001b[0m\n\u001b[1;32m    181\u001b[0m         \u001b[0;32mfor\u001b[0m \u001b[0mname\u001b[0m\u001b[0;34m,\u001b[0m \u001b[0mvalue\u001b[0m \u001b[0;32min\u001b[0m \u001b[0mself\u001b[0m\u001b[0;34m.\u001b[0m\u001b[0msignature\u001b[0m\u001b[0;34m.\u001b[0m\u001b[0mvalidate\u001b[0m\u001b[0;34m(\u001b[0m\u001b[0;34m*\u001b[0m\u001b[0margs\u001b[0m\u001b[0;34m,\u001b[0m \u001b[0;34m**\u001b[0m\u001b[0mkwargs\u001b[0m\u001b[0;34m)\u001b[0m\u001b[0;34m:\u001b[0m\u001b[0;34m\u001b[0m\u001b[0;34m\u001b[0m\u001b[0m\n\u001b[1;32m    182\u001b[0m             \u001b[0msetattr\u001b[0m\u001b[0;34m(\u001b[0m\u001b[0mself\u001b[0m\u001b[0;34m,\u001b[0m \u001b[0mname\u001b[0m\u001b[0;34m,\u001b[0m \u001b[0mvalue\u001b[0m\u001b[0;34m)\u001b[0m\u001b[0;34m\u001b[0m\u001b[0;34m\u001b[0m\u001b[0m\n\u001b[0;32m--> 183\u001b[0;31m         \u001b[0mself\u001b[0m\u001b[0;34m.\u001b[0m\u001b[0m_validate\u001b[0m\u001b[0;34m(\u001b[0m\u001b[0;34m)\u001b[0m\u001b[0;34m\u001b[0m\u001b[0;34m\u001b[0m\u001b[0m\n\u001b[0m\u001b[1;32m    184\u001b[0m \u001b[0;34m\u001b[0m\u001b[0m\n\u001b[1;32m    185\u001b[0m     \u001b[0;32mdef\u001b[0m \u001b[0m_validate\u001b[0m\u001b[0;34m(\u001b[0m\u001b[0mself\u001b[0m\u001b[0;34m)\u001b[0m\u001b[0;34m:\u001b[0m\u001b[0;34m\u001b[0m\u001b[0;34m\u001b[0m\u001b[0m\n",
      "\u001b[0;32m~/src/ibis/ibis/expr/operations.py\u001b[0m in \u001b[0;36m_validate\u001b[0;34m(self)\u001b[0m\n\u001b[1;32m   1931\u001b[0m \u001b[0;34m\u001b[0m\u001b[0m\n\u001b[1;32m   1932\u001b[0m         \u001b[0;31m# Validate no overlapping columns in schema\u001b[0m\u001b[0;34m\u001b[0m\u001b[0;34m\u001b[0m\u001b[0;34m\u001b[0m\u001b[0m\n\u001b[0;32m-> 1933\u001b[0;31m         \u001b[0;32massert\u001b[0m \u001b[0mself\u001b[0m\u001b[0;34m.\u001b[0m\u001b[0mschema\u001b[0m\u001b[0;34m\u001b[0m\u001b[0;34m\u001b[0m\u001b[0m\n\u001b[0m\u001b[1;32m   1934\u001b[0m \u001b[0;34m\u001b[0m\u001b[0m\n\u001b[1;32m   1935\u001b[0m     \u001b[0;34m@\u001b[0m\u001b[0mproperty\u001b[0m\u001b[0;34m\u001b[0m\u001b[0;34m\u001b[0m\u001b[0m\n",
      "\u001b[0;32m~/src/ibis/ibis/expr/operations.py\u001b[0m in \u001b[0;36mschema\u001b[0;34m(self)\u001b[0m\n\u001b[1;32m   1951\u001b[0m                 \u001b[0mtypes\u001b[0m\u001b[0;34m.\u001b[0m\u001b[0mextend\u001b[0m\u001b[0;34m(\u001b[0m\u001b[0mschema\u001b[0m\u001b[0;34m.\u001b[0m\u001b[0mtypes\u001b[0m\u001b[0;34m)\u001b[0m\u001b[0;34m\u001b[0m\u001b[0;34m\u001b[0m\u001b[0m\n\u001b[1;32m   1952\u001b[0m \u001b[0;34m\u001b[0m\u001b[0m\n\u001b[0;32m-> 1953\u001b[0;31m         \u001b[0;32mreturn\u001b[0m \u001b[0mSchema\u001b[0m\u001b[0;34m(\u001b[0m\u001b[0mnames\u001b[0m\u001b[0;34m,\u001b[0m \u001b[0mtypes\u001b[0m\u001b[0;34m)\u001b[0m\u001b[0;34m\u001b[0m\u001b[0;34m\u001b[0m\u001b[0m\n\u001b[0m\u001b[1;32m   1954\u001b[0m \u001b[0;34m\u001b[0m\u001b[0m\n\u001b[1;32m   1955\u001b[0m     \u001b[0;32mdef\u001b[0m \u001b[0mblocks\u001b[0m\u001b[0;34m(\u001b[0m\u001b[0mself\u001b[0m\u001b[0;34m)\u001b[0m\u001b[0;34m:\u001b[0m\u001b[0;34m\u001b[0m\u001b[0;34m\u001b[0m\u001b[0m\n",
      "\u001b[0;32m~/src/ibis/ibis/expr/schema.py\u001b[0m in \u001b[0;36m__init__\u001b[0;34m(self, names, types)\u001b[0m\n\u001b[1;32m     38\u001b[0m                 \u001b[0mduplicate_names\u001b[0m\u001b[0;34m.\u001b[0m\u001b[0mremove\u001b[0m\u001b[0;34m(\u001b[0m\u001b[0mv\u001b[0m\u001b[0;34m)\u001b[0m\u001b[0;34m\u001b[0m\u001b[0;34m\u001b[0m\u001b[0m\n\u001b[1;32m     39\u001b[0m             raise com.IntegrityError(\n\u001b[0;32m---> 40\u001b[0;31m                 \u001b[0;34m'Duplicate column name(s): {}'\u001b[0m\u001b[0;34m.\u001b[0m\u001b[0mformat\u001b[0m\u001b[0;34m(\u001b[0m\u001b[0mduplicate_names\u001b[0m\u001b[0;34m)\u001b[0m\u001b[0;34m\u001b[0m\u001b[0;34m\u001b[0m\u001b[0m\n\u001b[0m\u001b[1;32m     41\u001b[0m             )\n\u001b[1;32m     42\u001b[0m \u001b[0;34m\u001b[0m\u001b[0m\n",
      "\u001b[0;31mIntegrityError\u001b[0m: Duplicate column name(s): ['country_code']"
     ]
    }
   ],
   "source": [
    "countries_and_gdp = countries_and_gdp[countries_simplified, gdp]  # ['continent', gdp['country_code'].name('country_code'), 'value']"
   ]
  },
  {
   "cell_type": "markdown",
   "metadata": {},
   "source": [
    "The table contains the GDP information per country, for a number of years, let's check which years."
   ]
  },
  {
   "cell_type": "code",
   "execution_count": 19,
   "metadata": {},
   "outputs": [
    {
     "data": {
      "text/plain": [
       "(1960, 2017)"
      ]
     },
     "execution_count": 19,
     "metadata": {},
     "output_type": "execute_result"
    }
   ],
   "source": [
    "gdp['year'].min(), gdp['year'].max()"
   ]
  },
  {
   "cell_type": "markdown",
   "metadata": {},
   "source": [
    "We are going to just take the information about the last available year, 2017."
   ]
  },
  {
   "cell_type": "code",
   "execution_count": 20,
   "metadata": {},
   "outputs": [
    {
     "data": {
      "text/plain": [
       "    country_code         value\n",
       "0            ABW  2.700559e+09\n",
       "1            AFG  2.019176e+10\n",
       "2            AGO  1.221238e+11\n",
       "3            ALB  1.302506e+10\n",
       "4            AND  3.013387e+09\n",
       "..           ...           ...\n",
       "242          XKX  7.227700e+09\n",
       "243          YEM  2.681870e+10\n",
       "244          ZAF  3.495541e+11\n",
       "245          ZMB  2.586814e+10\n",
       "246          ZWE  2.281301e+10\n",
       "\n",
       "[247 rows x 2 columns]"
      ]
     },
     "execution_count": 20,
     "metadata": {},
     "output_type": "execute_result"
    }
   ],
   "source": [
    "gdp_2017 = gdp.filter(gdp['year'] == 2017)['country_code', 'value']\n",
    "gdp_2017"
   ]
  }
 ],
 "metadata": {
  "kernelspec": {
   "display_name": "Python 3",
   "language": "python",
   "name": "python3"
  },
  "language_info": {
   "codemirror_mode": {
    "name": "ipython",
    "version": 3
   },
   "file_extension": ".py",
   "mimetype": "text/x-python",
   "name": "python",
   "nbconvert_exporter": "python",
   "pygments_lexer": "ipython3",
   "version": "3.7.6"
  }
 },
 "nbformat": 4,
 "nbformat_minor": 4
}
